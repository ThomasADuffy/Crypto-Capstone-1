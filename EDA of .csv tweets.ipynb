{
 "cells": [
  {
   "cell_type": "code",
   "execution_count": 4,
   "metadata": {},
   "outputs": [
    {
     "name": "stderr",
     "output_type": "stream",
     "text": [
      "b'Skipping line 28517: expected 22 fields, saw 23\\n'\n",
      "b'Skipping line 34516: expected 22 fields, saw 23\\nSkipping line 55156: expected 22 fields, saw 23\\nSkipping line 64227: expected 22 fields, saw 23\\n'\n",
      "b'Skipping line 89714: expected 22 fields, saw 23\\n'\n",
      "b'Skipping line 117209: expected 22 fields, saw 23\\nSkipping line 127386: expected 22 fields, saw 23\\n'\n",
      "b'Skipping line 148621: expected 22 fields, saw 23\\n'\n",
      "b'Skipping line 253937: expected 22 fields, saw 23\\n'\n",
      "b'Skipping line 269148: expected 22 fields, saw 23\\nSkipping line 270075: expected 22 fields, saw 23\\nSkipping line 285031: expected 22 fields, saw 23\\nSkipping line 285265: expected 22 fields, saw 23\\n'\n",
      "b'Skipping line 296603: expected 22 fields, saw 23\\nSkipping line 297431: expected 22 fields, saw 23\\nSkipping line 310293: expected 22 fields, saw 23\\nSkipping line 317002: expected 22 fields, saw 23\\nSkipping line 322616: expected 22 fields, saw 23\\n'\n",
      "b'Skipping line 329242: expected 22 fields, saw 23\\nSkipping line 338912: expected 22 fields, saw 23\\nSkipping line 352144: expected 22 fields, saw 23\\nSkipping line 353945: expected 22 fields, saw 24\\n'\n",
      "b'Skipping line 379967: expected 22 fields, saw 23\\n'\n",
      "b'Skipping line 398590: expected 22 fields, saw 23\\nSkipping line 400980: expected 22 fields, saw 23\\nSkipping line 415058: expected 22 fields, saw 23\\n'\n",
      "b'Skipping line 427076: expected 22 fields, saw 24\\nSkipping line 449173: expected 22 fields, saw 24\\n'\n",
      "b'Skipping line 478432: expected 22 fields, saw 23\\nSkipping line 488075: expected 22 fields, saw 27\\n'\n",
      "b'Skipping line 536196: expected 22 fields, saw 23\\n'\n",
      "b'Skipping line 585088: expected 22 fields, saw 30\\n'\n",
      "b'Skipping line 612634: expected 22 fields, saw 24\\nSkipping line 612641: expected 22 fields, saw 24\\nSkipping line 618922: expected 22 fields, saw 23\\n'\n",
      "b'Skipping line 642348: expected 22 fields, saw 23\\nSkipping line 642585: expected 22 fields, saw 24\\nSkipping line 642845: expected 22 fields, saw 23\\n'\n",
      "b'Skipping line 659475: expected 22 fields, saw 23\\nSkipping line 683012: expected 22 fields, saw 23\\n'\n",
      "b'Skipping line 690414: expected 22 fields, saw 23\\nSkipping line 701709: expected 22 fields, saw 23\\nSkipping line 710130: expected 22 fields, saw 23\\n'\n",
      "b'Skipping line 787270: expected 22 fields, saw 23\\nSkipping line 793122: expected 22 fields, saw 23\\nSkipping line 806155: expected 22 fields, saw 24\\nSkipping line 811805: expected 22 fields, saw 23\\n'\n",
      "b'Skipping line 837068: expected 22 fields, saw 23\\nSkipping line 841900: expected 22 fields, saw 23\\nSkipping line 844189: expected 22 fields, saw 23\\nSkipping line 848376: expected 22 fields, saw 23\\nSkipping line 849115: expected 22 fields, saw 23\\nSkipping line 850956: expected 22 fields, saw 23\\n'\n",
      "b'Skipping line 852838: expected 22 fields, saw 23\\nSkipping line 868307: expected 22 fields, saw 23\\n'\n",
      "b'Skipping line 889859: expected 22 fields, saw 23\\nSkipping line 894484: expected 22 fields, saw 23\\nSkipping line 913713: expected 22 fields, saw 24\\nSkipping line 913918: expected 22 fields, saw 23\\n'\n",
      "b'Skipping line 921164: expected 22 fields, saw 25\\nSkipping line 921329: expected 22 fields, saw 23\\nSkipping line 923261: expected 22 fields, saw 23\\nSkipping line 925657: expected 22 fields, saw 23\\nSkipping line 931659: expected 22 fields, saw 23\\nSkipping line 932000: expected 22 fields, saw 23\\nSkipping line 934136: expected 22 fields, saw 24\\nSkipping line 940112: expected 22 fields, saw 23\\nSkipping line 942064: expected 22 fields, saw 23\\nSkipping line 948528: expected 22 fields, saw 23\\nSkipping line 948610: expected 22 fields, saw 23\\nSkipping line 949784: expected 22 fields, saw 23\\n'\n",
      "b'Skipping line 953463: expected 22 fields, saw 23\\nSkipping line 977259: expected 22 fields, saw 23\\n'\n",
      "b'Skipping line 989612: expected 22 fields, saw 23\\nSkipping line 994008: expected 22 fields, saw 23\\nSkipping line 995727: expected 22 fields, saw 23\\nSkipping line 1000218: expected 22 fields, saw 23\\nSkipping line 1003608: expected 22 fields, saw 23\\nSkipping line 1005582: expected 22 fields, saw 23\\nSkipping line 1012596: expected 22 fields, saw 23\\nSkipping line 1015819: expected 22 fields, saw 23\\n'\n",
      "b'Skipping line 1018728: expected 22 fields, saw 23\\nSkipping line 1027530: expected 22 fields, saw 23\\nSkipping line 1028763: expected 22 fields, saw 23\\nSkipping line 1031319: expected 22 fields, saw 23\\nSkipping line 1031420: expected 22 fields, saw 23\\nSkipping line 1038984: expected 22 fields, saw 24\\nSkipping line 1039034: expected 22 fields, saw 23\\nSkipping line 1040894: expected 22 fields, saw 23\\nSkipping line 1042972: expected 22 fields, saw 23\\n'\n",
      "b'Skipping line 1049971: expected 22 fields, saw 23\\nSkipping line 1055019: expected 22 fields, saw 23\\nSkipping line 1055033: expected 22 fields, saw 23\\nSkipping line 1074456: expected 22 fields, saw 23\\n'\n",
      "b'Skipping line 1101159: expected 22 fields, saw 23\\n'\n",
      "b'Skipping line 1149046: expected 22 fields, saw 23\\nSkipping line 1149052: expected 22 fields, saw 23\\nSkipping line 1155039: expected 22 fields, saw 24\\nSkipping line 1163476: expected 22 fields, saw 23\\n'\n",
      "b'Skipping line 1237290: expected 22 fields, saw 23\\nSkipping line 1237314: expected 22 fields, saw 23\\nSkipping line 1242039: expected 22 fields, saw 23\\nSkipping line 1244184: expected 22 fields, saw 23\\n'\n",
      "b'Skipping line 1246842: expected 22 fields, saw 23\\nSkipping line 1252600: expected 22 fields, saw 23\\nSkipping line 1259907: expected 22 fields, saw 23\\nSkipping line 1265765: expected 22 fields, saw 23\\nSkipping line 1266331: expected 22 fields, saw 23\\nSkipping line 1271114: expected 22 fields, saw 23\\n'\n",
      "b'Skipping line 1296367: expected 22 fields, saw 23\\n'\n",
      "b'Skipping line 1317816: expected 22 fields, saw 23\\nSkipping line 1321556: expected 22 fields, saw 23\\nSkipping line 1321650: expected 22 fields, saw 23\\nSkipping line 1327035: expected 22 fields, saw 23\\nSkipping line 1343542: expected 22 fields, saw 23\\n'\n",
      "b'Skipping line 1343787: expected 22 fields, saw 24\\nSkipping line 1350996: expected 22 fields, saw 23\\nSkipping line 1353127: expected 22 fields, saw 23\\nSkipping line 1359584: expected 22 fields, saw 23\\nSkipping line 1366905: expected 22 fields, saw 23\\n'\n",
      "b'Skipping line 1380925: expected 22 fields, saw 23\\n'\n",
      "b'Skipping line 1410926: expected 22 fields, saw 23\\nSkipping line 1412206: expected 22 fields, saw 23\\nSkipping line 1421749: expected 22 fields, saw 24\\nSkipping line 1438695: expected 22 fields, saw 23\\n'\n",
      "b'Skipping line 1463844: expected 22 fields, saw 24\\n'\n",
      "b'Skipping line 1478023: expected 22 fields, saw 23\\nSkipping line 1487463: expected 22 fields, saw 23\\nSkipping line 1487509: expected 22 fields, saw 23\\nSkipping line 1492388: expected 22 fields, saw 23\\nSkipping line 1501497: expected 22 fields, saw 23\\nSkipping line 1506512: expected 22 fields, saw 23\\n'\n",
      "b'Skipping line 1511070: expected 22 fields, saw 23\\nSkipping line 1518784: expected 22 fields, saw 23\\nSkipping line 1519960: expected 22 fields, saw 23\\nSkipping line 1521418: expected 22 fields, saw 23\\nSkipping line 1524182: expected 22 fields, saw 23\\nSkipping line 1528164: expected 22 fields, saw 23\\nSkipping line 1533727: expected 22 fields, saw 23\\n'\n",
      "b'Skipping line 1554403: expected 22 fields, saw 28\\nSkipping line 1558060: expected 22 fields, saw 23\\n'\n",
      "b'Skipping line 1597562: expected 22 fields, saw 23\\n'\n",
      "b'Skipping line 1635307: expected 22 fields, saw 23\\n'\n",
      "b'Skipping line 1642353: expected 22 fields, saw 23\\n'\n",
      "b'Skipping line 1714284: expected 22 fields, saw 27\\nSkipping line 1736050: expected 22 fields, saw 23\\n'\n",
      "b'Skipping line 1738266: expected 22 fields, saw 24\\nSkipping line 1748230: expected 22 fields, saw 24\\nSkipping line 1763941: expected 22 fields, saw 23\\n'\n",
      "b'Skipping line 1770462: expected 22 fields, saw 23\\nSkipping line 1773319: expected 22 fields, saw 23\\nSkipping line 1777577: expected 22 fields, saw 23\\nSkipping line 1777612: expected 22 fields, saw 23\\nSkipping line 1781396: expected 22 fields, saw 23\\n'\n",
      "b'Skipping line 1812091: expected 22 fields, saw 23\\n'\n",
      "b'Skipping line 1844319: expected 22 fields, saw 23\\nSkipping line 1846077: expected 22 fields, saw 23\\n'\n",
      "b'Skipping line 1871083: expected 22 fields, saw 23\\nSkipping line 1877211: expected 22 fields, saw 23\\nSkipping line 1880769: expected 22 fields, saw 23\\n'\n"
     ]
    },
    {
     "name": "stderr",
     "output_type": "stream",
     "text": [
      "b'Skipping line 1902692: expected 22 fields, saw 23\\nSkipping line 1903764: expected 22 fields, saw 23\\nSkipping line 1928303: expected 22 fields, saw 23\\nSkipping line 1929185: expected 22 fields, saw 23\\n'\n",
      "b'Skipping line 1937995: expected 22 fields, saw 23\\n'\n",
      "b'Skipping line 1970212: expected 22 fields, saw 24\\nSkipping line 1972464: expected 22 fields, saw 23\\nSkipping line 1987259: expected 22 fields, saw 23\\nSkipping line 1988632: expected 22 fields, saw 28\\nSkipping line 1988635: expected 22 fields, saw 28\\nSkipping line 1988659: expected 22 fields, saw 28\\nSkipping line 1988666: expected 22 fields, saw 28\\nSkipping line 1988667: expected 22 fields, saw 28\\nSkipping line 1988669: expected 22 fields, saw 28\\nSkipping line 1996984: expected 22 fields, saw 29\\nSkipping line 1996986: expected 22 fields, saw 29\\nSkipping line 1996994: expected 22 fields, saw 30\\nSkipping line 1996997: expected 22 fields, saw 30\\n'\n",
      "b'Skipping line 2020994: expected 22 fields, saw 23\\n'\n",
      "b'Skipping line 2035872: expected 22 fields, saw 23\\nSkipping line 2037834: expected 22 fields, saw 23\\nSkipping line 2037888: expected 22 fields, saw 23\\nSkipping line 2061439: expected 22 fields, saw 23\\n'\n",
      "b'Skipping line 2079110: expected 22 fields, saw 23\\nSkipping line 2083941: expected 22 fields, saw 23\\nSkipping line 2090843: expected 22 fields, saw 26\\nSkipping line 2091469: expected 22 fields, saw 23\\n'\n",
      "b'Skipping line 2117801: expected 22 fields, saw 23\\n'\n",
      "b'Skipping line 2133821: expected 22 fields, saw 23\\nSkipping line 2135893: expected 22 fields, saw 23\\nSkipping line 2140921: expected 22 fields, saw 23\\nSkipping line 2162343: expected 22 fields, saw 23\\n'\n",
      "b'Skipping line 2169951: expected 22 fields, saw 23\\nSkipping line 2183661: expected 22 fields, saw 23\\nSkipping line 2183961: expected 22 fields, saw 23\\nSkipping line 2191385: expected 22 fields, saw 23\\n'\n",
      "b'Skipping line 2233199: expected 22 fields, saw 24\\n'\n",
      "b'Skipping line 2276090: expected 22 fields, saw 23\\nSkipping line 2279046: expected 22 fields, saw 23\\nSkipping line 2285321: expected 22 fields, saw 24\\nSkipping line 2286416: expected 22 fields, saw 23\\n'\n",
      "b'Skipping line 2320176: expected 22 fields, saw 23\\n'\n",
      "b'Skipping line 2336894: expected 22 fields, saw 23\\nSkipping line 2337000: expected 22 fields, saw 23\\n'\n",
      "b'Skipping line 2378430: expected 22 fields, saw 23\\nSkipping line 2381842: expected 22 fields, saw 23\\n'\n",
      "b'Skipping line 2392570: expected 22 fields, saw 30\\nSkipping line 2411385: expected 22 fields, saw 23\\n'\n",
      "b'Skipping line 2437898: expected 22 fields, saw 23\\nSkipping line 2441658: expected 22 fields, saw 23\\nSkipping line 2443097: expected 22 fields, saw 23\\nSkipping line 2443846: expected 22 fields, saw 23\\n'\n",
      "b'Skipping line 2466127: expected 22 fields, saw 23\\nSkipping line 2487635: expected 22 fields, saw 23\\nSkipping line 2488845: expected 22 fields, saw 41\\n'\n",
      "b'Skipping line 2520909: expected 22 fields, saw 23\\n'\n",
      "b'Skipping line 2546541: expected 22 fields, saw 27\\n'\n",
      "b'Skipping line 2577474: expected 22 fields, saw 26\\nSkipping line 2585455: expected 22 fields, saw 41\\n'\n",
      "b'Skipping line 2594733: expected 22 fields, saw 24\\n'\n",
      "b'Skipping line 2639473: expected 22 fields, saw 25\\nSkipping line 2651901: expected 22 fields, saw 23\\n'\n",
      "b'Skipping line 2668937: expected 22 fields, saw 23\\nSkipping line 2671454: expected 22 fields, saw 24\\n'\n",
      "b'Skipping line 2691251: expected 22 fields, saw 24\\nSkipping line 2693360: expected 22 fields, saw 23\\nSkipping line 2695828: expected 22 fields, saw 23\\n'\n",
      "b'Skipping line 2732796: expected 22 fields, saw 25\\nSkipping line 2739896: expected 22 fields, saw 23\\nSkipping line 2741511: expected 22 fields, saw 23\\n'\n",
      "b'Skipping line 2753841: expected 22 fields, saw 23\\nSkipping line 2753842: expected 22 fields, saw 23\\nSkipping line 2754019: expected 22 fields, saw 24\\nSkipping line 2756748: expected 22 fields, saw 23\\nSkipping line 2757945: expected 22 fields, saw 25\\nSkipping line 2763519: expected 22 fields, saw 23\\nSkipping line 2763915: expected 22 fields, saw 24\\nSkipping line 2772069: expected 22 fields, saw 23\\nSkipping line 2773402: expected 22 fields, saw 23\\nSkipping line 2774925: expected 22 fields, saw 24\\nSkipping line 2785514: expected 22 fields, saw 23\\n'\n",
      "b'Skipping line 2785816: expected 22 fields, saw 24\\nSkipping line 2789479: expected 22 fields, saw 23\\nSkipping line 2797719: expected 22 fields, saw 24\\nSkipping line 2806944: expected 22 fields, saw 24\\nSkipping line 2814053: expected 22 fields, saw 24\\n'\n",
      "b'Skipping line 2819154: expected 22 fields, saw 23\\nSkipping line 2820149: expected 22 fields, saw 24\\nSkipping line 2833867: expected 22 fields, saw 24\\nSkipping line 2842144: expected 22 fields, saw 24\\nSkipping line 2848679: expected 22 fields, saw 24\\n'\n",
      "b'Skipping line 2856348: expected 22 fields, saw 23\\nSkipping line 2856524: expected 22 fields, saw 23\\n'\n",
      "b'Skipping line 2889477: expected 22 fields, saw 25\\nSkipping line 2889730: expected 22 fields, saw 23\\n'\n",
      "b'Skipping line 2921938: expected 22 fields, saw 23\\nSkipping line 2934823: expected 22 fields, saw 23\\nSkipping line 2936920: expected 22 fields, saw 23\\n'\n",
      "b'Skipping line 2957328: expected 22 fields, saw 23\\nSkipping line 2958190: expected 22 fields, saw 23\\nSkipping line 2958191: expected 22 fields, saw 23\\nSkipping line 2961202: expected 22 fields, saw 23\\nSkipping line 2961446: expected 22 fields, saw 23\\nSkipping line 2968503: expected 22 fields, saw 24\\n'\n",
      "b'Skipping line 3117347: expected 22 fields, saw 23\\nSkipping line 3134116: expected 22 fields, saw 23\\nSkipping line 3138845: expected 22 fields, saw 23\\n'\n",
      "b'Skipping line 3153180: expected 22 fields, saw 23\\nSkipping line 3167190: expected 22 fields, saw 23\\nSkipping line 3167219: expected 22 fields, saw 23\\nSkipping line 3167269: expected 22 fields, saw 23\\n'\n",
      "b'Skipping line 3179464: expected 22 fields, saw 23\\nSkipping line 3188206: expected 22 fields, saw 23\\nSkipping line 3192770: expected 22 fields, saw 23\\nSkipping line 3197635: expected 22 fields, saw 23\\n'\n",
      "b'Skipping line 3218118: expected 22 fields, saw 23\\nSkipping line 3227618: expected 22 fields, saw 23\\nSkipping line 3228189: expected 22 fields, saw 23\\nSkipping line 3228193: expected 22 fields, saw 23\\nSkipping line 3231442: expected 22 fields, saw 24\\nSkipping line 3242106: expected 22 fields, saw 23\\n'\n",
      "b'Skipping line 3247692: expected 22 fields, saw 25\\nSkipping line 3250695: expected 22 fields, saw 23\\nSkipping line 3253041: expected 22 fields, saw 23\\nSkipping line 3253108: expected 22 fields, saw 23\\nSkipping line 3253208: expected 22 fields, saw 23\\nSkipping line 3255398: expected 22 fields, saw 23\\nSkipping line 3258733: expected 22 fields, saw 23\\nSkipping line 3258754: expected 22 fields, saw 23\\nSkipping line 3258789: expected 22 fields, saw 23\\nSkipping line 3258790: expected 22 fields, saw 23\\nSkipping line 3260991: expected 22 fields, saw 23\\nSkipping line 3264055: expected 22 fields, saw 24\\nSkipping line 3273922: expected 22 fields, saw 23\\nSkipping line 3274675: expected 22 fields, saw 23\\nSkipping line 3276917: expected 22 fields, saw 23\\n'\n",
      "b'Skipping line 3281730: expected 22 fields, saw 23\\nSkipping line 3282323: expected 22 fields, saw 23\\nSkipping line 3282626: expected 22 fields, saw 23\\nSkipping line 3284579: expected 22 fields, saw 24\\nSkipping line 3284690: expected 22 fields, saw 24\\nSkipping line 3284756: expected 22 fields, saw 24\\nSkipping line 3286382: expected 22 fields, saw 23\\nSkipping line 3295091: expected 22 fields, saw 23\\nSkipping line 3295514: expected 22 fields, saw 23\\nSkipping line 3298633: expected 22 fields, saw 23\\nSkipping line 3299274: expected 22 fields, saw 23\\nSkipping line 3299798: expected 22 fields, saw 23\\nSkipping line 3301724: expected 22 fields, saw 23\\nSkipping line 3302375: expected 22 fields, saw 23\\nSkipping line 3302378: expected 22 fields, saw 23\\nSkipping line 3302386: expected 22 fields, saw 23\\nSkipping line 3307368: expected 22 fields, saw 23\\n'\n",
      "b'Skipping line 3313567: expected 22 fields, saw 23\\nSkipping line 3313571: expected 22 fields, saw 23\\nSkipping line 3316558: expected 22 fields, saw 23\\nSkipping line 3319143: expected 22 fields, saw 23\\nSkipping line 3319165: expected 22 fields, saw 23\\nSkipping line 3320504: expected 22 fields, saw 23\\nSkipping line 3321816: expected 22 fields, saw 23\\nSkipping line 3321818: expected 22 fields, saw 23\\nSkipping line 3336095: expected 22 fields, saw 23\\nSkipping line 3336099: expected 22 fields, saw 23\\nSkipping line 3339216: expected 22 fields, saw 23\\nSkipping line 3339937: expected 22 fields, saw 23\\nSkipping line 3339938: expected 22 fields, saw 23\\nSkipping line 3340031: expected 22 fields, saw 23\\nSkipping line 3340047: expected 22 fields, saw 23\\n'\n",
      "b'Skipping line 3343998: expected 22 fields, saw 25\\nSkipping line 3350669: expected 22 fields, saw 23\\nSkipping line 3368027: expected 22 fields, saw 23\\nSkipping line 3369439: expected 22 fields, saw 23\\nSkipping line 3369446: expected 22 fields, saw 23\\nSkipping line 3371102: expected 22 fields, saw 23\\nSkipping line 3371109: expected 22 fields, saw 23\\n'\n"
     ]
    },
    {
     "name": "stderr",
     "output_type": "stream",
     "text": [
      "b'Skipping line 3375837: expected 22 fields, saw 23\\nSkipping line 3377664: expected 22 fields, saw 24\\nSkipping line 3378216: expected 22 fields, saw 23\\n'\n",
      "b'Skipping line 3418600: expected 22 fields, saw 23\\nSkipping line 3418601: expected 22 fields, saw 23\\nSkipping line 3419403: expected 22 fields, saw 23\\nSkipping line 3419576: expected 22 fields, saw 23\\nSkipping line 3436225: expected 22 fields, saw 23\\n'\n",
      "b'Skipping line 3446298: expected 22 fields, saw 23\\nSkipping line 3463367: expected 22 fields, saw 23\\n'\n",
      "b'Skipping line 3476457: expected 22 fields, saw 23\\nSkipping line 3493301: expected 22 fields, saw 23\\nSkipping line 3500865: expected 22 fields, saw 25\\n'\n",
      "b'Skipping line 3508137: expected 22 fields, saw 24\\nSkipping line 3508138: expected 22 fields, saw 24\\nSkipping line 3508559: expected 22 fields, saw 23\\nSkipping line 3528335: expected 22 fields, saw 24\\nSkipping line 3528342: expected 22 fields, saw 24\\nSkipping line 3528347: expected 22 fields, saw 24\\nSkipping line 3529267: expected 22 fields, saw 24\\nSkipping line 3529272: expected 22 fields, saw 24\\nSkipping line 3529273: expected 22 fields, saw 24\\nSkipping line 3533366: expected 22 fields, saw 23\\nSkipping line 3534462: expected 22 fields, saw 23\\nSkipping line 3538254: expected 22 fields, saw 23\\n'\n",
      "b'Skipping line 3544592: expected 22 fields, saw 23\\nSkipping line 3560030: expected 22 fields, saw 23\\nSkipping line 3570332: expected 22 fields, saw 24\\n'\n",
      "b'Skipping line 3572333: expected 22 fields, saw 23\\nSkipping line 3574730: expected 22 fields, saw 23\\nSkipping line 3580616: expected 22 fields, saw 23\\nSkipping line 3588628: expected 22 fields, saw 23\\nSkipping line 3590470: expected 22 fields, saw 23\\nSkipping line 3591129: expected 22 fields, saw 23\\nSkipping line 3593261: expected 22 fields, saw 25\\nSkipping line 3593531: expected 22 fields, saw 23\\nSkipping line 3595311: expected 22 fields, saw 23\\nSkipping line 3598750: expected 22 fields, saw 23\\nSkipping line 3602353: expected 22 fields, saw 23\\nSkipping line 3602354: expected 22 fields, saw 23\\nSkipping line 3603695: expected 22 fields, saw 23\\nSkipping line 3604572: expected 22 fields, saw 23\\nSkipping line 3604672: expected 22 fields, saw 23\\n'\n",
      "b'Skipping line 3605785: expected 22 fields, saw 23\\nSkipping line 3606044: expected 22 fields, saw 29\\nSkipping line 3609659: expected 22 fields, saw 24\\nSkipping line 3614465: expected 22 fields, saw 23\\nSkipping line 3614819: expected 22 fields, saw 23\\nSkipping line 3615341: expected 22 fields, saw 23\\nSkipping line 3616537: expected 22 fields, saw 23\\nSkipping line 3621234: expected 22 fields, saw 23\\nSkipping line 3621377: expected 22 fields, saw 23\\nSkipping line 3622369: expected 22 fields, saw 23\\nSkipping line 3622399: expected 22 fields, saw 24\\nSkipping line 3624960: expected 22 fields, saw 23\\nSkipping line 3625033: expected 22 fields, saw 23\\nSkipping line 3625206: expected 22 fields, saw 24\\nSkipping line 3634479: expected 22 fields, saw 23\\nSkipping line 3634617: expected 22 fields, saw 23\\nSkipping line 3636743: expected 22 fields, saw 23\\n'\n",
      "b'Skipping line 3638186: expected 22 fields, saw 24\\nSkipping line 3639408: expected 22 fields, saw 25\\nSkipping line 3639549: expected 22 fields, saw 23\\nSkipping line 3641949: expected 22 fields, saw 23\\nSkipping line 3641986: expected 22 fields, saw 23\\nSkipping line 3642022: expected 22 fields, saw 23\\nSkipping line 3643517: expected 22 fields, saw 23\\nSkipping line 3644303: expected 22 fields, saw 23\\nSkipping line 3646318: expected 22 fields, saw 23\\nSkipping line 3647507: expected 22 fields, saw 23\\nSkipping line 3648071: expected 22 fields, saw 25\\nSkipping line 3648129: expected 22 fields, saw 23\\nSkipping line 3649709: expected 22 fields, saw 23\\nSkipping line 3649710: expected 22 fields, saw 23\\nSkipping line 3652260: expected 22 fields, saw 24\\nSkipping line 3652278: expected 22 fields, saw 23\\nSkipping line 3652294: expected 22 fields, saw 24\\nSkipping line 3658509: expected 22 fields, saw 24\\nSkipping line 3662780: expected 22 fields, saw 23\\nSkipping line 3665148: expected 22 fields, saw 24\\nSkipping line 3665283: expected 22 fields, saw 23\\nSkipping line 3666892: expected 22 fields, saw 23\\nSkipping line 3669222: expected 22 fields, saw 23\\n'\n",
      "b'Skipping line 3671624: expected 22 fields, saw 23\\nSkipping line 3672155: expected 22 fields, saw 23\\nSkipping line 3672200: expected 22 fields, saw 23\\nSkipping line 3672214: expected 22 fields, saw 24\\nSkipping line 3672233: expected 22 fields, saw 23\\nSkipping line 3677465: expected 22 fields, saw 23\\nSkipping line 3680383: expected 22 fields, saw 23\\nSkipping line 3682164: expected 22 fields, saw 23\\nSkipping line 3683160: expected 22 fields, saw 23\\nSkipping line 3684415: expected 22 fields, saw 23\\nSkipping line 3689158: expected 22 fields, saw 23\\nSkipping line 3692965: expected 22 fields, saw 24\\nSkipping line 3694244: expected 22 fields, saw 23\\nSkipping line 3695132: expected 22 fields, saw 24\\nSkipping line 3697464: expected 22 fields, saw 23\\nSkipping line 3698203: expected 22 fields, saw 23\\nSkipping line 3699998: expected 22 fields, saw 23\\nSkipping line 3700781: expected 22 fields, saw 23\\nSkipping line 3703081: expected 22 fields, saw 23\\n'\n",
      "b'Skipping line 3704039: expected 22 fields, saw 23\\nSkipping line 3704847: expected 22 fields, saw 23\\nSkipping line 3705573: expected 22 fields, saw 23\\nSkipping line 3707506: expected 22 fields, saw 23\\nSkipping line 3708141: expected 22 fields, saw 23\\nSkipping line 3718921: expected 22 fields, saw 23\\nSkipping line 3730208: expected 22 fields, saw 23\\nSkipping line 3731030: expected 22 fields, saw 23\\n'\n",
      "b'Skipping line 3738865: expected 22 fields, saw 23\\nSkipping line 3742588: expected 22 fields, saw 24\\nSkipping line 3744902: expected 22 fields, saw 23\\nSkipping line 3752773: expected 22 fields, saw 23\\n'\n"
     ]
    }
   ],
   "source": [
    "from pprint import pprint\n",
    "import time\n",
    "import numpy as np\n",
    "import pandas as pd\n",
    "import getpass\n",
    "df = pd.read_csv(f\"/media/{getpass.getuser()}/extra/Crypto-Capstone-1/data/ETH-tweets/ETHtweets.csv\",error_bad_lines=False)\n",
    "df2 = pd.read_csv(f\"/media/{getpass.getuser()}/extra/Crypto-Capstone-1/data/ETH-tweets/ETHtweets.csv\",error_bad_lines=False)"
   ]
  },
  {
   "cell_type": "code",
   "execution_count": 8,
   "metadata": {},
   "outputs": [
    {
     "name": "stdout",
     "output_type": "stream",
     "text": [
      "<class 'pandas.core.frame.DataFrame'>\n",
      "RangeIndex: 3758572 entries, 0 to 3758571\n",
      "Data columns (total 22 columns):\n",
      "Tweet ID                   int64\n",
      " Conversation ID           int64\n",
      " Author Id                 int64\n",
      " Author Name               object\n",
      " isVerified                int64\n",
      " DateTime                  object\n",
      " Tweet Text                object\n",
      " Replies                   int64\n",
      " Retweets                  int64\n",
      " Favorites                 int64\n",
      " Mentions                  object\n",
      " Hashtags                  object\n",
      " Permalink                 object\n",
      " URLs                      object\n",
      " isPartOfConversation      int64\n",
      " isReply                   int64\n",
      " isRetweet                 int64\n",
      " Reply To User ID          float64\n",
      " Reply To User Name        object\n",
      " Quoted Tweet ID           float64\n",
      " Quoted Tweet User Name    object\n",
      " Quoted Tweet User ID      float64\n",
      "dtypes: float64(3), int64(10), object(9)\n",
      "memory usage: 630.9+ MB\n"
     ]
    }
   ],
   "source": [
    "df.info()"
   ]
  },
  {
   "cell_type": "code",
   "execution_count": 9,
   "metadata": {},
   "outputs": [
    {
     "data": {
      "text/html": [
       "<div>\n",
       "<style scoped>\n",
       "    .dataframe tbody tr th:only-of-type {\n",
       "        vertical-align: middle;\n",
       "    }\n",
       "\n",
       "    .dataframe tbody tr th {\n",
       "        vertical-align: top;\n",
       "    }\n",
       "\n",
       "    .dataframe thead th {\n",
       "        text-align: right;\n",
       "    }\n",
       "</style>\n",
       "<table border=\"1\" class=\"dataframe\">\n",
       "  <thead>\n",
       "    <tr style=\"text-align: right;\">\n",
       "      <th></th>\n",
       "      <th>Tweet ID</th>\n",
       "      <th>Conversation ID</th>\n",
       "      <th>Author Id</th>\n",
       "      <th>isVerified</th>\n",
       "      <th>Replies</th>\n",
       "      <th>Retweets</th>\n",
       "      <th>Favorites</th>\n",
       "      <th>isPartOfConversation</th>\n",
       "      <th>isReply</th>\n",
       "      <th>isRetweet</th>\n",
       "      <th>Reply To User ID</th>\n",
       "      <th>Quoted Tweet ID</th>\n",
       "      <th>Quoted Tweet User ID</th>\n",
       "    </tr>\n",
       "  </thead>\n",
       "  <tbody>\n",
       "    <tr>\n",
       "      <th>count</th>\n",
       "      <td>3.758572e+06</td>\n",
       "      <td>3.758572e+06</td>\n",
       "      <td>3.758572e+06</td>\n",
       "      <td>3.758572e+06</td>\n",
       "      <td>3.758572e+06</td>\n",
       "      <td>3.758572e+06</td>\n",
       "      <td>3.758572e+06</td>\n",
       "      <td>3.758572e+06</td>\n",
       "      <td>3.758572e+06</td>\n",
       "      <td>3.758572e+06</td>\n",
       "      <td>7.153300e+04</td>\n",
       "      <td>6.410490e+05</td>\n",
       "      <td>6.410490e+05</td>\n",
       "    </tr>\n",
       "    <tr>\n",
       "      <th>mean</th>\n",
       "      <td>9.573853e+17</td>\n",
       "      <td>9.573448e+17</td>\n",
       "      <td>5.133036e+17</td>\n",
       "      <td>9.846559e-03</td>\n",
       "      <td>4.769051e-01</td>\n",
       "      <td>2.474671e+00</td>\n",
       "      <td>2.870640e+00</td>\n",
       "      <td>2.278046e-02</td>\n",
       "      <td>1.986792e-02</td>\n",
       "      <td>1.880922e-01</td>\n",
       "      <td>5.427760e+17</td>\n",
       "      <td>9.849443e+17</td>\n",
       "      <td>8.066762e+17</td>\n",
       "    </tr>\n",
       "    <tr>\n",
       "      <th>std</th>\n",
       "      <td>6.744656e+16</td>\n",
       "      <td>6.748275e+16</td>\n",
       "      <td>4.476774e+17</td>\n",
       "      <td>9.874010e-02</td>\n",
       "      <td>2.143572e+01</td>\n",
       "      <td>5.248792e+01</td>\n",
       "      <td>4.860418e+01</td>\n",
       "      <td>1.492029e-01</td>\n",
       "      <td>1.395464e-01</td>\n",
       "      <td>3.907858e-01</td>\n",
       "      <td>4.623968e+17</td>\n",
       "      <td>3.974830e+16</td>\n",
       "      <td>3.293228e+17</td>\n",
       "    </tr>\n",
       "    <tr>\n",
       "      <th>min</th>\n",
       "      <td>6.272719e+17</td>\n",
       "      <td>6.402164e+16</td>\n",
       "      <td>2.100000e+01</td>\n",
       "      <td>0.000000e+00</td>\n",
       "      <td>0.000000e+00</td>\n",
       "      <td>0.000000e+00</td>\n",
       "      <td>0.000000e+00</td>\n",
       "      <td>0.000000e+00</td>\n",
       "      <td>0.000000e+00</td>\n",
       "      <td>0.000000e+00</td>\n",
       "      <td>1.200000e+01</td>\n",
       "      <td>7.800000e+01</td>\n",
       "      <td>1.200000e+01</td>\n",
       "    </tr>\n",
       "    <tr>\n",
       "      <th>25%</th>\n",
       "      <td>9.394280e+17</td>\n",
       "      <td>9.393882e+17</td>\n",
       "      <td>2.232163e+09</td>\n",
       "      <td>0.000000e+00</td>\n",
       "      <td>0.000000e+00</td>\n",
       "      <td>0.000000e+00</td>\n",
       "      <td>0.000000e+00</td>\n",
       "      <td>0.000000e+00</td>\n",
       "      <td>0.000000e+00</td>\n",
       "      <td>0.000000e+00</td>\n",
       "      <td>9.614454e+08</td>\n",
       "      <td>9.772231e+17</td>\n",
       "      <td>8.978274e+17</td>\n",
       "    </tr>\n",
       "    <tr>\n",
       "      <th>50%</th>\n",
       "      <td>9.791352e+17</td>\n",
       "      <td>9.790990e+17</td>\n",
       "      <td>7.826293e+17</td>\n",
       "      <td>0.000000e+00</td>\n",
       "      <td>0.000000e+00</td>\n",
       "      <td>0.000000e+00</td>\n",
       "      <td>0.000000e+00</td>\n",
       "      <td>0.000000e+00</td>\n",
       "      <td>0.000000e+00</td>\n",
       "      <td>0.000000e+00</td>\n",
       "      <td>8.762862e+17</td>\n",
       "      <td>9.932696e+17</td>\n",
       "      <td>9.336415e+17</td>\n",
       "    </tr>\n",
       "    <tr>\n",
       "      <th>75%</th>\n",
       "      <td>1.000220e+18</td>\n",
       "      <td>1.000198e+18</td>\n",
       "      <td>9.321333e+17</td>\n",
       "      <td>0.000000e+00</td>\n",
       "      <td>0.000000e+00</td>\n",
       "      <td>0.000000e+00</td>\n",
       "      <td>1.000000e+00</td>\n",
       "      <td>0.000000e+00</td>\n",
       "      <td>0.000000e+00</td>\n",
       "      <td>0.000000e+00</td>\n",
       "      <td>9.588147e+17</td>\n",
       "      <td>1.005400e+18</td>\n",
       "      <td>9.622931e+17</td>\n",
       "    </tr>\n",
       "    <tr>\n",
       "      <th>max</th>\n",
       "      <td>1.024444e+18</td>\n",
       "      <td>1.024444e+18</td>\n",
       "      <td>1.024346e+18</td>\n",
       "      <td>1.000000e+00</td>\n",
       "      <td>1.130800e+04</td>\n",
       "      <td>1.839000e+04</td>\n",
       "      <td>1.637500e+04</td>\n",
       "      <td>1.000000e+00</td>\n",
       "      <td>1.000000e+00</td>\n",
       "      <td>1.000000e+00</td>\n",
       "      <td>1.023806e+18</td>\n",
       "      <td>1.024442e+18</td>\n",
       "      <td>1.023731e+18</td>\n",
       "    </tr>\n",
       "  </tbody>\n",
       "</table>\n",
       "</div>"
      ],
      "text/plain": [
       "           Tweet ID   Conversation ID    Author Id     isVerified  \\\n",
       "count  3.758572e+06      3.758572e+06  3.758572e+06  3.758572e+06   \n",
       "mean   9.573853e+17      9.573448e+17  5.133036e+17  9.846559e-03   \n",
       "std    6.744656e+16      6.748275e+16  4.476774e+17  9.874010e-02   \n",
       "min    6.272719e+17      6.402164e+16  2.100000e+01  0.000000e+00   \n",
       "25%    9.394280e+17      9.393882e+17  2.232163e+09  0.000000e+00   \n",
       "50%    9.791352e+17      9.790990e+17  7.826293e+17  0.000000e+00   \n",
       "75%    1.000220e+18      1.000198e+18  9.321333e+17  0.000000e+00   \n",
       "max    1.024444e+18      1.024444e+18  1.024346e+18  1.000000e+00   \n",
       "\n",
       "            Replies      Retweets     Favorites   isPartOfConversation  \\\n",
       "count  3.758572e+06  3.758572e+06  3.758572e+06           3.758572e+06   \n",
       "mean   4.769051e-01  2.474671e+00  2.870640e+00           2.278046e-02   \n",
       "std    2.143572e+01  5.248792e+01  4.860418e+01           1.492029e-01   \n",
       "min    0.000000e+00  0.000000e+00  0.000000e+00           0.000000e+00   \n",
       "25%    0.000000e+00  0.000000e+00  0.000000e+00           0.000000e+00   \n",
       "50%    0.000000e+00  0.000000e+00  0.000000e+00           0.000000e+00   \n",
       "75%    0.000000e+00  0.000000e+00  1.000000e+00           0.000000e+00   \n",
       "max    1.130800e+04  1.839000e+04  1.637500e+04           1.000000e+00   \n",
       "\n",
       "            isReply     isRetweet   Reply To User ID   Quoted Tweet ID  \\\n",
       "count  3.758572e+06  3.758572e+06       7.153300e+04      6.410490e+05   \n",
       "mean   1.986792e-02  1.880922e-01       5.427760e+17      9.849443e+17   \n",
       "std    1.395464e-01  3.907858e-01       4.623968e+17      3.974830e+16   \n",
       "min    0.000000e+00  0.000000e+00       1.200000e+01      7.800000e+01   \n",
       "25%    0.000000e+00  0.000000e+00       9.614454e+08      9.772231e+17   \n",
       "50%    0.000000e+00  0.000000e+00       8.762862e+17      9.932696e+17   \n",
       "75%    0.000000e+00  0.000000e+00       9.588147e+17      1.005400e+18   \n",
       "max    1.000000e+00  1.000000e+00       1.023806e+18      1.024442e+18   \n",
       "\n",
       "        Quoted Tweet User ID  \n",
       "count           6.410490e+05  \n",
       "mean            8.066762e+17  \n",
       "std             3.293228e+17  \n",
       "min             1.200000e+01  \n",
       "25%             8.978274e+17  \n",
       "50%             9.336415e+17  \n",
       "75%             9.622931e+17  \n",
       "max             1.023731e+18  "
      ]
     },
     "execution_count": 9,
     "metadata": {},
     "output_type": "execute_result"
    }
   ],
   "source": [
    "df.describe()"
   ]
  },
  {
   "cell_type": "code",
   "execution_count": 25,
   "metadata": {},
   "outputs": [],
   "source": [
    "colnames = df.columns.tolist()"
   ]
  },
  {
   "cell_type": "code",
   "execution_count": 26,
   "metadata": {},
   "outputs": [],
   "source": [
    "colnames = [col.lower().strip().replace(' ', '_') for col in colnames]"
   ]
  },
  {
   "cell_type": "code",
   "execution_count": 28,
   "metadata": {},
   "outputs": [],
   "source": [
    "df.columns = colnames"
   ]
  },
  {
   "cell_type": "code",
   "execution_count": 37,
   "metadata": {},
   "outputs": [],
   "source": [
    "df['datetime'] = pd.to_datetime(df['datetime'])"
   ]
  },
  {
   "cell_type": "code",
   "execution_count": 38,
   "metadata": {},
   "outputs": [
    {
     "name": "stdout",
     "output_type": "stream",
     "text": [
      "<class 'pandas.core.frame.DataFrame'>\n",
      "RangeIndex: 3758572 entries, 0 to 3758571\n",
      "Data columns (total 22 columns):\n",
      "tweet_id                  int64\n",
      "conversation_id           int64\n",
      "author_id                 int64\n",
      "author_name               object\n",
      "isverified                int64\n",
      "datetime                  datetime64[ns]\n",
      "tweet_text                object\n",
      "replies                   int64\n",
      "retweets                  int64\n",
      "favorites                 int64\n",
      "mentions                  object\n",
      "hashtags                  object\n",
      "permalink                 object\n",
      "urls                      object\n",
      "ispartofconversation      int64\n",
      "isreply                   int64\n",
      "isretweet                 int64\n",
      "reply_to_user_id          float64\n",
      "reply_to_user_name        object\n",
      "quoted_tweet_id           float64\n",
      "quoted_tweet_user_name    object\n",
      "quoted_tweet_user_id      float64\n",
      "dtypes: datetime64[ns](1), float64(3), int64(10), object(8)\n",
      "memory usage: 630.9+ MB\n"
     ]
    }
   ],
   "source": [
    "df.info()"
   ]
  },
  {
   "cell_type": "code",
   "execution_count": 41,
   "metadata": {},
   "outputs": [
    {
     "data": {
      "text/plain": [
       "Timestamp('2018-07-31 19:59:00')"
      ]
     },
     "execution_count": 41,
     "metadata": {},
     "output_type": "execute_result"
    }
   ],
   "source": [
    "max(df['datetime'])\n"
   ]
  },
  {
   "cell_type": "code",
   "execution_count": 40,
   "metadata": {},
   "outputs": [
    {
     "data": {
      "text/plain": [
       "Timestamp('2015-07-31 20:17:00')"
      ]
     },
     "execution_count": 40,
     "metadata": {},
     "output_type": "execute_result"
    }
   ],
   "source": [
    "min(df['datetime'])"
   ]
  },
  {
   "cell_type": "code",
   "execution_count": 51,
   "metadata": {},
   "outputs": [
    {
     "data": {
      "text/plain": [
       "pandas.core.frame.DataFrame"
      ]
     },
     "execution_count": 51,
     "metadata": {},
     "output_type": "execute_result"
    }
   ],
   "source": [
    "type(df)"
   ]
  },
  {
   "cell_type": "code",
   "execution_count": null,
   "metadata": {},
   "outputs": [],
   "source": []
  }
 ],
 "metadata": {
  "kernelspec": {
   "display_name": "Python 3",
   "language": "python",
   "name": "python3"
  },
  "language_info": {
   "codemirror_mode": {
    "name": "ipython",
    "version": 3
   },
   "file_extension": ".py",
   "mimetype": "text/x-python",
   "name": "python",
   "nbconvert_exporter": "python",
   "pygments_lexer": "ipython3",
   "version": "3.7.3"
  }
 },
 "nbformat": 4,
 "nbformat_minor": 2
}
