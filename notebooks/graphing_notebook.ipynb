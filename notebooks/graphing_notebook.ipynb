{
 "cells": [
  {
   "cell_type": "code",
   "execution_count": 8,
   "metadata": {},
   "outputs": [],
   "source": [
    "import sys\n",
    "import getpass\n",
    "sys.path.insert(0, f\"/home/{getpass.getuser()}/Documents/Galvanize/Capstones/Crypto-Capstone-1/src\")\n",
    "\n"
   ]
  },
  {
   "cell_type": "code",
   "execution_count": 11,
   "metadata": {},
   "outputs": [],
   "source": [
    "import matplotlib.pyplot as plt\n",
    "from parsing_class import *"
   ]
  },
  {
   "cell_type": "code",
   "execution_count": 12,
   "metadata": {},
   "outputs": [],
   "source": [
    "btc=coinmarketcap_jsonfile(f\"/media/{getpass.getuser()}/extra/Crypto-Capstone-1/data/Json/bitcoin.json\")\n",
    "eth=coinmarketcap_jsonfile(f\"/media/{getpass.getuser()}/extra/Crypto-Capstone-1/data/Json/ethereum.json\")"
   ]
  },
  {
   "cell_type": "code",
   "execution_count": null,
   "metadata": {},
   "outputs": [],
   "source": [
    "ETHtweets =  crypto_csv_tweets(f\"/media/{getpass.getuser()}/extra/Crypto-Capstone-1/data/ETH-tweets/ETHtweets.csv\")\n",
    "BTCtweets = crypto_csv_tweets(f\"/media/{getpass.getuser()}/extra/Crypto-Capstone-1/data/BTC-tweets/BTC.csv\")"
   ]
  }
 ],
 "metadata": {
  "kernelspec": {
   "display_name": "Python 3",
   "language": "python",
   "name": "python3"
  },
  "language_info": {
   "codemirror_mode": {
    "name": "ipython",
    "version": 3
   },
   "file_extension": ".py",
   "mimetype": "text/x-python",
   "name": "python",
   "nbconvert_exporter": "python",
   "pygments_lexer": "ipython3",
   "version": "3.7.3"
  }
 },
 "nbformat": 4,
 "nbformat_minor": 2
}
