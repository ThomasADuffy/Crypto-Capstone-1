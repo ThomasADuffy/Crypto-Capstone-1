{
 "cells": [
  {
   "cell_type": "code",
   "execution_count": 11,
   "metadata": {},
   "outputs": [
    {
     "name": "stdout",
     "output_type": "stream",
     "text": [
      "'Key:'\n",
      "'market_cap_by_available_supply'\n",
      "'Key:'\n",
      "'price_btc'\n",
      "'Key:'\n",
      "'price_usd'\n",
      "'Key:'\n",
      "'volume_usd'\n"
     ]
    }
   ],
   "source": [
    "from pprint import pprint\n",
    "import time\n",
    "import json\n",
    "json_data=open(\"data/Json/bitcoin.json\")\n",
    "jdata = json.load(json_data)\n",
    "for key, value in jdata.items():\n",
    "    pprint(\"Key:\")\n",
    "    pprint(key)\n"
   ]
  },
  {
   "cell_type": "code",
   "execution_count": 3,
   "metadata": {},
   "outputs": [
    {
     "data": {
      "text/plain": [
       "[[1367174841000, 1], [1367261101000, 1], [1367347502000, 1]]"
      ]
     },
     "execution_count": 3,
     "metadata": {},
     "output_type": "execute_result"
    }
   ],
   "source": [
    "jdata['price_btc'][:5:]"
   ]
  },
  {
   "cell_type": "code",
   "execution_count": 4,
   "metadata": {},
   "outputs": [
    {
     "data": {
      "text/plain": [
       "[[1367174841000, 135.3],\n",
       " [1367261101000, 141.96],\n",
       " [1367347502000, 135.3],\n",
       " [1367433902000, 117],\n",
       " [1367522401000, 103.43]]"
      ]
     },
     "execution_count": 4,
     "metadata": {},
     "output_type": "execute_result"
    }
   ],
   "source": [
    "jdata['price_usd'][:5:]"
   ]
  },
  {
   "cell_type": "code",
   "execution_count": 5,
   "metadata": {},
   "outputs": [
    {
     "data": {
      "text/plain": [
       "[[1367174841000, 1500517590],\n",
       " [1367261101000, 1575032004],\n",
       " [1367347502000, 1501657492],\n",
       " [1367433902000, 1298951550],\n",
       " [1367522401000, 1148667722]]"
      ]
     },
     "execution_count": 5,
     "metadata": {},
     "output_type": "execute_result"
    }
   ],
   "source": [
    "jdata['market_cap_by_available_supply'][:5:]"
   ]
  },
  {
   "cell_type": "code",
   "execution_count": 6,
   "metadata": {},
   "outputs": [
    {
     "data": {
      "text/plain": [
       "[[1367174841000, 0],\n",
       " [1367261101000, 0],\n",
       " [1367347502000, 0],\n",
       " [1367433902000, 0],\n",
       " [1367522401000, 0]]"
      ]
     },
     "execution_count": 6,
     "metadata": {},
     "output_type": "execute_result"
    }
   ],
   "source": [
    "jdata['volume_usd'][:5:]"
   ]
  },
  {
   "cell_type": "code",
   "execution_count": 27,
   "metadata": {},
   "outputs": [
    {
     "name": "stdout",
     "output_type": "stream",
     "text": [
      "dt_object = 2013-04-28 12:47:21\n",
      "type(dt_object) = <class 'datetime.datetime'>\n"
     ]
    }
   ],
   "source": [
    "from datetime import datetime\n",
    "timestamp = 1367174841\n",
    "dt_object = datetime.fromtimestamp(timestamp)\n",
    "print(\"dt_object =\", dt_object)\n",
    "print(\"type(dt_object) =\", type(dt_object))"
   ]
  },
  {
   "cell_type": "markdown",
   "metadata": {},
   "source": [
    "Found out you have to strip the 3 0's from the end of the unix time stamp in order to set it as a date time object."
   ]
  }
 ],
 "metadata": {
  "kernelspec": {
   "display_name": "Python 3",
   "language": "python",
   "name": "python3"
  },
  "language_info": {
   "codemirror_mode": {
    "name": "ipython",
    "version": 3
   },
   "file_extension": ".py",
   "mimetype": "text/x-python",
   "name": "python",
   "nbconvert_exporter": "python",
   "pygments_lexer": "ipython3",
   "version": "3.7.3"
  }
 },
 "nbformat": 4,
 "nbformat_minor": 2
}
